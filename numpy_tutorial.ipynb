{
 "cells": [
  {
   "cell_type": "markdown",
   "metadata": {
    "slideshow": {
     "slide_type": "slide"
    },
    "tags": [
     "parameters"
    ]
   },
   "source": [
    "Introduction to Numpy"
   ]
  },
  {
   "cell_type": "markdown",
   "metadata": {},
   "source": [
    "Creating Numpy array"
   ]
  },
  {
   "cell_type": "code",
   "execution_count": null,
   "metadata": {},
   "outputs": [],
   "source": [
    "# Numpy is the multidimensional array library. Used to store all sorts of data ex:- 1d array, 2d array, 3d array etc..\n",
    "\n",
    "# To use numpy library in vs code or any editor first we need to download numpy module\n",
    "# type pip install numpy in terminal\n",
    "\n",
    "# import numpy library\n",
    "import numpy as np\n",
    "\n",
    "# creating 1d numpy array\n",
    "a = np.array([1,2,3])\n",
    "b = np.array([4,5,6])\n",
    "\n",
    "# creating 2d numpy array\n",
    "c = np.array([[1,2,3],[4,5,6],[7,8,9]])\n",
    "d = np.array([[10,11,12],[13,14,15],[16,17,18]])\n",
    "\n",
    "# creating 3d numpy array\n",
    "e = np.array([[[1,2,3],[4,5,6]],[[7,8,9],[10,11,12]]])\n",
    "\n",
    "# In notebooks we can print data without using print function but try to use print its better practise\n",
    "\n",
    "print(a)\n",
    "print(c)\n",
    "print(e)"
   ]
  },
  {
   "cell_type": "markdown",
   "metadata": {},
   "source": [
    "Multiplying the 2 numpy array "
   ]
  },
  {
   "cell_type": "code",
   "execution_count": null,
   "metadata": {},
   "outputs": [],
   "source": [
    "# We can directly multiply two numpy array\n",
    "print(a * b) # 1d array\n",
    "\n",
    "print(c * d) # 2d array\n",
    "\n",
    "print(a * c) # multiplying 1d array with 2d array\n",
    "\n",
    "print(e * e) # 3d array * 3d array (we cannot multiply 2d array with 3d array)"
   ]
  },
  {
   "cell_type": "markdown",
   "metadata": {},
   "source": [
    "Dimension of numpy array"
   ]
  },
  {
   "cell_type": "code",
   "execution_count": null,
   "metadata": {},
   "outputs": [],
   "source": [
    "# Number of dimension\n",
    "print(a.ndim) \n",
    "print(c.ndim)\n",
    "print(e.ndim)\n",
    "\n",
    "# Shape of array\n",
    "print(a.shape)\n",
    "print(c.shape)\n",
    "print(e.shape)\n",
    "\n",
    "# Size of array\n",
    "print(a.size)\n",
    "print(c.size)\n",
    "print(e.size)\n",
    "\n",
    "# item size of array\n",
    "print(a.itemsize)\n",
    "print(b.itemsize)\n",
    "print(c.itemsize)\n",
    "\n",
    "# data type of arrays\n",
    "print(a.dtype)\n",
    "print(c.dtype)\n",
    "print(e.dtype)\n",
    "\n",
    "# if we want to specify the type or memory we can do this\n",
    "f = np.array([1,2,3,4], dtype=\"int16\")\n",
    "\n",
    "print(f.dtype) # we specify the f array data type will be int 16 bytes\n",
    "print(f.size) # size of the new array\n",
    "print(f.itemsize) # item size of the new array\n",
    "\n",
    "# number of bytes used in an array\n",
    "# method 1\n",
    "# size * itemsize\n",
    "\n",
    "print(a.size * a.itemsize) # size = 3 and itemsize = 4\n",
    "print(c.size * c.itemsize) # size = 9 and itemsize = 4\n",
    "print(e.size * e.itemsize) # size = 12 and itemsize = 4\n",
    "print(f.size * f.itemsize) # size = 4 and itemsize = 2\n",
    "\n",
    "# method 2\n",
    "# use nbytes function\n",
    "\n",
    "print(a.nbytes)\n",
    "print(b.nbytes)\n",
    "print(c.nbytes)\n",
    "print(f.nbytes)"
   ]
  },
  {
   "cell_type": "markdown",
   "metadata": {},
   "source": [
    "Accessing / Changing Specific elements, rows, columns etc"
   ]
  },
  {
   "cell_type": "code",
   "execution_count": null,
   "metadata": {},
   "outputs": [],
   "source": [
    "# Getting a specific element from array by row and column :- [row, column]\n",
    "\n",
    "# create a new array \n",
    "data = np.array([[1,2,3,4,5,6,7,8],[9,10,11,12,13,14,15,16]])\n",
    "\n",
    "# get the element of 1st row and 5th index\n",
    "print(data[1, 5]) # row starts from 0th index and column also start from 0th index\n",
    "\n",
    "# we can get the same element by using negative index\n",
    "print(data[-1, -3]) # last element of row and column become -1 index and first element becomes -n (n is the size of the array)"
   ]
  },
  {
   "cell_type": "markdown",
   "metadata": {},
   "source": [
    "Get a specific row and column"
   ]
  },
  {
   "cell_type": "code",
   "execution_count": null,
   "metadata": {},
   "outputs": [],
   "source": [
    "# We can get a specific row by using slice syntax\n",
    "\n",
    "print(data[0, :]) # 0th index row of array\n",
    "print(data[:, 2]) # 2nd index column of array \n",
    "\n",
    "# Getting more element :- [start, end, steps size]\n",
    "\n",
    "print(data[0, 1:6:2]) # 0 is the row index, 1 is the column starting index, 6 is the end index, 2 is the step size\n",
    "\n",
    "# same can be done using negative index\n",
    "print(data[-2, -7:-2:2])\n",
    "\n",
    "# changing the element of an array\n",
    "data[1, 5] = 20\n",
    "print(data)\n",
    "\n",
    "# changing all the elements of the 2nd column\n",
    "data[:, 2] = 5\n",
    "print(data)\n",
    "\n",
    "# changing different element in same column\n",
    "data[:, 2] = [1, 2]\n",
    "print(data)"
   ]
  },
  {
   "cell_type": "markdown",
   "metadata": {},
   "source": [
    "Performing the same funcion on 3d array"
   ]
  },
  {
   "cell_type": "code",
   "execution_count": null,
   "metadata": {},
   "outputs": [],
   "source": [
    "# Creating a 3d array\n",
    "\n",
    "data_3d = np.array([[[1,2],[3,4]],[[5,6],[7,8]]])\n",
    "print(data_3d) # it's a 3d array of shape (2,2,2) and size 8\n",
    "\n",
    "# Access the element\n",
    "# We have 3 axis in 3d array let x, y, z\n",
    "\n",
    "print(data_3d[0]) # [[1 2] [3 4]] we define x axis in print function so we get a 2d array which(I represent in 1d but in output we get 2d array)\n",
    "\n",
    "print(data_3d[0,1]) # [3 4] we define x and y in print function so we get a 1d array \n",
    "\n",
    "print(data_3d[0,1,1]) # [4] we define all x, y and z axis in print function so we get a single element of an 3d array\n",
    "\n",
    "# Same thing happen here as before\n",
    "\n",
    "print(data_3d[1]) # [[5 6] [7 8]]\n",
    "\n",
    "print(data_3d[1,1]) # [7 8]\n",
    "\n",
    "print(data_3d[1,1,0]) # [7]\n",
    "\n",
    "print(data_3d[:,1,:]) # This way i can get the value of the axis i want(Hard to understand by seeing code run the code first and then see it for understanding)\n",
    "\n",
    "# Changing the elements of a 3d array\n",
    "\n",
    "data_3d[:,1,:] = [[9,9],[8,8]] # Changing value of two axis\n",
    "\n",
    "print(data_3d)\n",
    "\n",
    "# Remember it during the changing when the dimensions is different it gives a ValueError\n"
   ]
  },
  {
   "cell_type": "markdown",
   "metadata": {},
   "source": [
    "Intializing Different types of Arrays"
   ]
  },
  {
   "cell_type": "code",
   "execution_count": null,
   "metadata": {},
   "outputs": [],
   "source": [
    "# All zeros matrix \n",
    "\n",
    "# create a 1d zeros matrix\n",
    "print(np.zeros(2)) # print a float array of 2 elements\n",
    "print(np.zeros((2), dtype=\"int32\")) # print a integer array\n",
    "\n",
    "# create a 2d zeros matrix\n",
    "print(np.zeros((2,2))) # float array of 2 rows and 2 columns\n",
    "print(np.zeros((2,2), dtype=\"int32\"))\n",
    "\n",
    "# create a 3d zeros matrix\n",
    "print(np.zeros((2,3,3))) # float array of x y and z axis\n",
    "print(np.zeros((2,3,4), dtype=\"int32\"))\n",
    "\n",
    "# All ones matrix\n",
    "\n",
    "# The process is same but the syntax is change a little\n",
    "# 1d ones matrix\n",
    "print(np.ones(2))\n",
    "print(np.ones((2), dtype=\"int32\"))\n",
    "\n",
    "# For 2d and 3d matrix we can use the same syntax as before"
   ]
  },
  {
   "cell_type": "markdown",
   "metadata": {},
   "source": [
    "Any other number matrix"
   ]
  },
  {
   "cell_type": "code",
   "execution_count": null,
   "metadata": {},
   "outputs": [],
   "source": [
    "# There are two methods for that one id using full_like function and other is using full function\n",
    "\n",
    "# using full function\n",
    "# syntax np.full((row, column), value, data type) data type is optional (by default is int)\n",
    "\n",
    "print(np.full((2,2), 99)) # create a 2d array have value of 99\n",
    "print(np.full((2,2), 99, dtype=\"float32\")) # create a 2d array have value of 99.0\n",
    "\n",
    "#using full_like function\n",
    "# syntax np.full_like(previous used array, value, data type)\n",
    "\n",
    "print(np.full_like(data, 88)) # create a 2d array have value of 88\n",
    "print(np.full_like(data, 88, dtype=\"float32\")) # create a 2d array have value of 88.0"
   ]
  },
  {
   "cell_type": "markdown",
   "metadata": {},
   "source": [
    "Random decimal number array"
   ]
  },
  {
   "cell_type": "code",
   "execution_count": null,
   "metadata": {},
   "outputs": [],
   "source": [
    "# Creating a array of elements \n",
    "# Using random.random_sample(previously used array)\n",
    "\n",
    "print(np.random.random_sample(data.shape)) # generate random float value of same as data array\n",
    "\n",
    "# Random integer values\n",
    "# syntax np.random.randint(start, end, size = ())\n",
    "\n",
    "print(np.random.randint(0, 5, size = (4, 4))) # create an array of value from 0 to 4 which has size of (2d array (4, 4))\n",
    "\n",
    "# Creating identity matrix\n",
    "print(np.identity(3)) # create an identity matrix of (3,3) of 0 and 1 in float\n",
    "print(np.identity((3), dtype=\"int32\"))"
   ]
  },
  {
   "cell_type": "markdown",
   "metadata": {},
   "source": [
    "Repeat the array"
   ]
  },
  {
   "cell_type": "code",
   "execution_count": null,
   "metadata": {},
   "outputs": [],
   "source": [
    "arr = np.array([[1,2,3]])\n",
    "\n",
    "# repeating the array by using the repeat function\n",
    "# syntax np.repeat(previous data type, number of times, axis(meaning dimension of array))\n",
    "\n",
    "r1 = np.repeat(arr, 3, axis = 0)\n",
    "print(r1)\n",
    "\n",
    "r2 = np.repeat(arr, 3, axis = 1)\n",
    "print(r2)\n",
    "\n",
    "# for 2d array we have axis 2 which is represent by axis 0 and axis 1 if we use axis 2 then we get AxisError"
   ]
  },
  {
   "cell_type": "markdown",
   "metadata": {},
   "source": [
    "Copying Arrays"
   ]
  },
  {
   "cell_type": "code",
   "execution_count": null,
   "metadata": {},
   "outputs": [],
   "source": [
    "# Be carefull when copying arrays\n",
    "\n",
    "arr1 = np.array([1,2,3]) # creating an array element\n",
    "arr2 = arr1 # copying an array\n",
    "\n",
    "print(arr1)\n",
    "print(arr2)\n",
    "\n",
    "# changing element of arr2\n",
    "arr2[0] = 10\n",
    "\n",
    "print(arr1) # arr1 0th index also change because when we write arr2 = arr1 it doesn't create a copy it create an alias to arr1. same like refrence in c++\n",
    "print(arr2)\n",
    "\n",
    "# Right way to copying an array element\n",
    "# Use copy function for copying element\n",
    "\n",
    "arr1[0] = 1\n",
    "\n",
    "arr2 = arr1.copy() # Creating copy of arr1\n",
    "\n",
    "print(arr1)\n",
    "print(arr2)\n"
   ]
  },
  {
   "cell_type": "markdown",
   "metadata": {},
   "source": [
    "Mathematics in numpy"
   ]
  },
  {
   "cell_type": "code",
   "execution_count": null,
   "metadata": {},
   "outputs": [],
   "source": [
    "# Adding\n",
    "\n",
    "arr = np.array([1,2,3,4])\n",
    "arr1 = np.array([5,6,7,8])\n",
    "\n",
    "print(arr + 2) # add 2 to every element of arr\n",
    "print(arr + arr1) # add arr and arr1\n",
    "\n",
    "# Subtracting\n",
    "\n",
    "print(arr - 2) # subtract 2 from every element or arr\n",
    "print(arr - arr1) # subtract arr1 from arr\n",
    "\n",
    "# Multiplication\n",
    "\n",
    "print(arr * 2) # multiply 2 to every element of arr\n",
    "print(arr * arr1) # multiply arr and arr1\n",
    "\n",
    "# Division\n",
    "\n",
    "print(arr / 2) # division 2 to every element of arr\n",
    "print(arr1 / arr) # divide arr1 from arr\n",
    "\n",
    "# Trigonometry\n",
    "\n",
    "print(np.sin(arr)) # sin\n",
    "print(np.cos(arr)) # cos\n",
    "print(np.tan(arr)) # tan\n",
    "\n",
    "# Linear Algebra\n",
    "# Determinent of matrix\n",
    "\n",
    "id = np.identity((3), dtype=\"int32\")\n",
    "print(np.linalg.det(id)) # linalg is linear algebra package\n",
    "\n",
    "# we can perform many other liner algebra function like aigen value, inverse of a matrix etc.\n",
    "\n",
    "\n",
    "# Statistics\n",
    "\n",
    "stats = np.array([[1,2,3],[4,5,6]])\n",
    "print(np.min(stats)) # minimum\n",
    "print(np.max(stats)) # maximum\n",
    "print(np.min(stats, axis=1)) # minimum in axis\n",
    "print(np.max(stats, axis=1)) # maximum in axis\n",
    "print(np.sum(stats, axis=0)) # summation\n"
   ]
  },
  {
   "cell_type": "markdown",
   "metadata": {},
   "source": [
    "Reorganizing Arrays"
   ]
  },
  {
   "cell_type": "code",
   "execution_count": null,
   "metadata": {},
   "outputs": [],
   "source": [
    "before = np.array([[1,2,3,4],[5,6,7,8]])\n",
    "print(before.shape)\n",
    "\n",
    "# reorganizing the array\n",
    "after = before.reshape((8,1)) # .reshape((row, column)) -> for 2d arrays\n",
    "print(after)\n",
    "print(after.shape) # row = 8 and column = 1\n",
    "\n",
    "after = before.reshape((2,2,2)) # .reshape((x, y, z)) -> for 3d arrays\n",
    "print(after)\n",
    "print(after.reshape) # x axis = 2, y axis = 2 and z axis = 2\n",
    "\n",
    "# It does not work for (2, 3) because it cannot reshape in this dimension\n",
    "\n",
    "# Vertically Stacking arrays\n",
    "\n",
    "v1 = np.array([1,2,3,4])\n",
    "v2 = np.array([5,6,7,8])\n",
    "\n",
    "# for vertically stacking \n",
    "# syntax np.vstack([parameter 1, parameter 2]) where parameter 1 will be stack on parameter 2\n",
    "\n",
    "print(np.vstack([v1, v2])) # v1 on v2\n",
    "print(np.stack([v1,v2,v2,v1])) # v1 on v2 on v2 on v1\n",
    "\n",
    "# Horizontal Stack\n",
    "# syntax np.hstack((parameter 1, parameter 2))\n",
    "h1 = np.ones((2,4))\n",
    "h2 = np.zeros((2,2))\n",
    "\n",
    "print(np.hstack([h1, h2])) # Check the output for clear understanding"
   ]
  },
  {
   "cell_type": "markdown",
   "metadata": {},
   "source": [
    "Miscellaneous"
   ]
  },
  {
   "cell_type": "markdown",
   "metadata": {},
   "source": [
    "Reading data from file"
   ]
  },
  {
   "cell_type": "code",
   "execution_count": null,
   "metadata": {},
   "outputs": [],
   "source": [
    "# Syntax for reading data from text file in numpy\n",
    "# variable name = np.genfromtxt(\"file name\", delimiter = \"put delimiter sign\")\n",
    "# For this programm to run please also download the file name Data.txt or create your own text file\n",
    "\n",
    "filedata = np.genfromtxt(\"Data.txt\", delimiter = \",\") # Automatically cast to float type\n",
    "print(filedata)\n",
    "\n",
    "print(filedata.astype(\"int32\")) # make a copy as int data type\n",
    "\n",
    "\n",
    "# Boolean Masking and Advance Indexing \n",
    "\n",
    "print(filedata > 50) # it will create a boolean array where filedata value is greater by 50 is represent as true and other as false\n",
    "\n",
    "# Advance indexing\n",
    "# using a array variable in its index\n",
    "\n",
    "print(filedata[filedata > 50]) # print out all the elements which is greater than 50\n",
    "\n",
    "# using a list in array index\n",
    "\n",
    "print(filedata[[0,1,2]]) # using list as a index\n",
    "\n",
    "ar = np.array([1,2,3,4,5,6,7,8])\n",
    "\n",
    "print(ar[[1,2,3]])\n",
    "\n",
    "# remember that list value doesn't go up than the index of the filedata\n",
    "\n",
    "print(np.any(filedata > 50, axis = 0)) # other function(check the output for better clarification)\n",
    "\n",
    "print((filedata > 50) & (filedata < 100))\n"
   ]
  },
  {
   "cell_type": "markdown",
   "metadata": {},
   "source": [
    "This is the basics of the numpy library . You can add more function or more details about this library.\n",
    "\n",
    "\n",
    "Thank you"
   ]
  }
 ],
 "metadata": {
  "kernelspec": {
   "display_name": "Python 3",
   "language": "python",
   "name": "python3"
  },
  "language_info": {
   "codemirror_mode": {
    "name": "ipython",
    "version": 3
   },
   "file_extension": ".py",
   "mimetype": "text/x-python",
   "name": "python",
   "nbconvert_exporter": "python",
   "pygments_lexer": "ipython3",
   "version": "3.12.7"
  }
 },
 "nbformat": 4,
 "nbformat_minor": 2
}
